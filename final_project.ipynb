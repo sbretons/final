{
 "cells": [
  {
   "cell_type": "code",
   "execution_count": 3,
   "id": "8db6d4e8-5f03-427f-a082-2a447c0fe9f4",
   "metadata": {},
   "outputs": [
    {
     "name": "stdout",
     "output_type": "stream",
     "text": [
      "Requirement already satisfied: pandas in /srv/conda/envs/notebook/lib/python3.10/site-packages (2.0.0)\n",
      "Requirement already satisfied: tzdata>=2022.1 in /srv/conda/envs/notebook/lib/python3.10/site-packages (from pandas) (2023.3)\n",
      "Requirement already satisfied: pytz>=2020.1 in /srv/conda/envs/notebook/lib/python3.10/site-packages (from pandas) (2022.7.1)\n",
      "Requirement already satisfied: python-dateutil>=2.8.2 in /srv/conda/envs/notebook/lib/python3.10/site-packages (from pandas) (2.8.2)\n",
      "Requirement already satisfied: numpy>=1.21.0 in /srv/conda/envs/notebook/lib/python3.10/site-packages (from pandas) (1.24.2)\n",
      "Requirement already satisfied: six>=1.5 in /srv/conda/envs/notebook/lib/python3.10/site-packages (from python-dateutil>=2.8.2->pandas) (1.16.0)\n",
      "Collecting geopandas\n",
      "  Downloading geopandas-0.12.2-py3-none-any.whl (1.1 MB)\n",
      "\u001b[2K     \u001b[90m━━━━━━━━━━━━━━━━━━━━━━━━━━━━━━━━━━━━━━━━\u001b[0m \u001b[32m1.1/1.1 MB\u001b[0m \u001b[31m12.6 MB/s\u001b[0m eta \u001b[36m0:00:00\u001b[0m00:01\u001b[0m0:01\u001b[0m\n",
      "\u001b[?25hRequirement already satisfied: pandas>=1.0.0 in /srv/conda/envs/notebook/lib/python3.10/site-packages (from geopandas) (2.0.0)\n",
      "Collecting shapely>=1.7\n",
      "  Downloading shapely-2.0.1-cp310-cp310-manylinux_2_17_x86_64.manylinux2014_x86_64.whl (2.3 MB)\n",
      "\u001b[2K     \u001b[90m━━━━━━━━━━━━━━━━━━━━━━━━━━━━━━━━━━━━━━━━\u001b[0m \u001b[32m2.3/2.3 MB\u001b[0m \u001b[31m73.3 MB/s\u001b[0m eta \u001b[36m0:00:00\u001b[0m\n",
      "\u001b[?25hRequirement already satisfied: packaging in /srv/conda/envs/notebook/lib/python3.10/site-packages (from geopandas) (23.0)\n",
      "Collecting pyproj>=2.6.1.post1\n",
      "  Downloading pyproj-3.5.0-cp310-cp310-manylinux_2_17_x86_64.manylinux2014_x86_64.whl (7.7 MB)\n",
      "\u001b[2K     \u001b[90m━━━━━━━━━━━━━━━━━━━━━━━━━━━━━━━━━━━━━━━━\u001b[0m \u001b[32m7.7/7.7 MB\u001b[0m \u001b[31m57.8 MB/s\u001b[0m eta \u001b[36m0:00:00\u001b[0m00:01\u001b[0m00:01\u001b[0mm\n",
      "\u001b[?25hCollecting fiona>=1.8\n",
      "  Downloading Fiona-1.9.3-cp310-cp310-manylinux_2_17_x86_64.manylinux2014_x86_64.whl (16.0 MB)\n",
      "\u001b[2K     \u001b[90m━━━━━━━━━━━━━━━━━━━━━━━━━━━━━━━━━━━━━━━━\u001b[0m \u001b[32m16.0/16.0 MB\u001b[0m \u001b[31m64.7 MB/s\u001b[0m eta \u001b[36m0:00:00\u001b[0m00:01\u001b[0m00:01\u001b[0m\n",
      "\u001b[?25hCollecting cligj>=0.5\n",
      "  Downloading cligj-0.7.2-py3-none-any.whl (7.1 kB)\n",
      "Collecting click~=8.0\n",
      "  Downloading click-8.1.3-py3-none-any.whl (96 kB)\n",
      "\u001b[2K     \u001b[90m━━━━━━━━━━━━━━━━━━━━━━━━━━━━━━━━━━━━━━━━\u001b[0m \u001b[32m96.6/96.6 kB\u001b[0m \u001b[31m15.1 MB/s\u001b[0m eta \u001b[36m0:00:00\u001b[0m\n",
      "\u001b[?25hCollecting click-plugins>=1.0\n",
      "  Downloading click_plugins-1.1.1-py2.py3-none-any.whl (7.5 kB)\n",
      "Requirement already satisfied: certifi in /srv/conda/envs/notebook/lib/python3.10/site-packages (from fiona>=1.8->geopandas) (2022.12.7)\n",
      "Collecting munch>=2.3.2\n",
      "  Downloading munch-2.5.0-py2.py3-none-any.whl (10 kB)\n",
      "Requirement already satisfied: attrs>=19.2.0 in /srv/conda/envs/notebook/lib/python3.10/site-packages (from fiona>=1.8->geopandas) (22.2.0)\n",
      "Requirement already satisfied: tzdata>=2022.1 in /srv/conda/envs/notebook/lib/python3.10/site-packages (from pandas>=1.0.0->geopandas) (2023.3)\n",
      "Requirement already satisfied: pytz>=2020.1 in /srv/conda/envs/notebook/lib/python3.10/site-packages (from pandas>=1.0.0->geopandas) (2022.7.1)\n",
      "Requirement already satisfied: python-dateutil>=2.8.2 in /srv/conda/envs/notebook/lib/python3.10/site-packages (from pandas>=1.0.0->geopandas) (2.8.2)\n",
      "Requirement already satisfied: numpy>=1.21.0 in /srv/conda/envs/notebook/lib/python3.10/site-packages (from pandas>=1.0.0->geopandas) (1.24.2)\n",
      "Requirement already satisfied: six in /srv/conda/envs/notebook/lib/python3.10/site-packages (from munch>=2.3.2->fiona>=1.8->geopandas) (1.16.0)\n",
      "Installing collected packages: shapely, pyproj, munch, click, cligj, click-plugins, fiona, geopandas\n",
      "Successfully installed click-8.1.3 click-plugins-1.1.1 cligj-0.7.2 fiona-1.9.3 geopandas-0.12.2 munch-2.5.0 pyproj-3.5.0 shapely-2.0.1\n",
      "Collecting matplotlib\n",
      "  Downloading matplotlib-3.7.1-cp310-cp310-manylinux_2_17_x86_64.manylinux2014_x86_64.whl (11.6 MB)\n",
      "\u001b[2K     \u001b[90m━━━━━━━━━━━━━━━━━━━━━━━━━━━━━━━━━━━━━━━━\u001b[0m \u001b[32m11.6/11.6 MB\u001b[0m \u001b[31m78.4 MB/s\u001b[0m eta \u001b[36m0:00:00\u001b[0m00:01\u001b[0m0:01\u001b[0m\n",
      "\u001b[?25hRequirement already satisfied: numpy>=1.20 in /srv/conda/envs/notebook/lib/python3.10/site-packages (from matplotlib) (1.24.2)\n",
      "Requirement already satisfied: packaging>=20.0 in /srv/conda/envs/notebook/lib/python3.10/site-packages (from matplotlib) (23.0)\n",
      "Collecting contourpy>=1.0.1\n",
      "  Downloading contourpy-1.0.7-cp310-cp310-manylinux_2_17_x86_64.manylinux2014_x86_64.whl (300 kB)\n",
      "\u001b[2K     \u001b[90m━━━━━━━━━━━━━━━━━━━━━━━━━━━━━━━━━━━━━━\u001b[0m \u001b[32m300.3/300.3 kB\u001b[0m \u001b[31m35.6 MB/s\u001b[0m eta \u001b[36m0:00:00\u001b[0m\n",
      "\u001b[?25hCollecting pyparsing>=2.3.1\n",
      "  Downloading pyparsing-3.0.9-py3-none-any.whl (98 kB)\n",
      "\u001b[2K     \u001b[90m━━━━━━━━━━━━━━━━━━━━━━━━━━━━━━━━━━━━━━━━\u001b[0m \u001b[32m98.3/98.3 kB\u001b[0m \u001b[31m15.6 MB/s\u001b[0m eta \u001b[36m0:00:00\u001b[0m\n",
      "\u001b[?25hCollecting fonttools>=4.22.0\n",
      "  Downloading fonttools-4.39.3-py3-none-any.whl (1.0 MB)\n",
      "\u001b[2K     \u001b[90m━━━━━━━━━━━━━━━━━━━━━━━━━━━━━━━━━━━━━━━━\u001b[0m \u001b[32m1.0/1.0 MB\u001b[0m \u001b[31m62.2 MB/s\u001b[0m eta \u001b[36m0:00:00\u001b[0m\n",
      "\u001b[?25hCollecting kiwisolver>=1.0.1\n",
      "  Downloading kiwisolver-1.4.4-cp310-cp310-manylinux_2_12_x86_64.manylinux2010_x86_64.whl (1.6 MB)\n",
      "\u001b[2K     \u001b[90m━━━━━━━━━━━━━━━━━━━━━━━━━━━━━━━━━━━━━━━━\u001b[0m \u001b[32m1.6/1.6 MB\u001b[0m \u001b[31m68.2 MB/s\u001b[0m eta \u001b[36m0:00:00\u001b[0m\n",
      "\u001b[?25hCollecting cycler>=0.10\n",
      "  Downloading cycler-0.11.0-py3-none-any.whl (6.4 kB)\n",
      "Requirement already satisfied: python-dateutil>=2.7 in /srv/conda/envs/notebook/lib/python3.10/site-packages (from matplotlib) (2.8.2)\n",
      "Collecting pillow>=6.2.0\n",
      "  Downloading Pillow-9.5.0-cp310-cp310-manylinux_2_17_x86_64.manylinux2014_x86_64.whl (3.3 MB)\n",
      "\u001b[2K     \u001b[90m━━━━━━━━━━━━━━━━━━━━━━━━━━━━━━━━━━━━━━━━\u001b[0m \u001b[32m3.3/3.3 MB\u001b[0m \u001b[31m88.4 MB/s\u001b[0m eta \u001b[36m0:00:00\u001b[0m:00:01\u001b[0m\n",
      "\u001b[?25hRequirement already satisfied: six>=1.5 in /srv/conda/envs/notebook/lib/python3.10/site-packages (from python-dateutil>=2.7->matplotlib) (1.16.0)\n",
      "Installing collected packages: pyparsing, pillow, kiwisolver, fonttools, cycler, contourpy, matplotlib\n",
      "Successfully installed contourpy-1.0.7 cycler-0.11.0 fonttools-4.39.3 kiwisolver-1.4.4 matplotlib-3.7.1 pillow-9.5.0 pyparsing-3.0.9\n",
      "Collecting mapclassify\n",
      "  Downloading mapclassify-2.5.0-py3-none-any.whl (39 kB)\n",
      "Collecting scipy>=1.0\n",
      "  Downloading scipy-1.10.1-cp310-cp310-manylinux_2_17_x86_64.manylinux2014_x86_64.whl (34.4 MB)\n",
      "\u001b[2K     \u001b[90m━━━━━━━━━━━━━━━━━━━━━━━━━━━━━━━━━━━━━━━━\u001b[0m \u001b[32m34.4/34.4 MB\u001b[0m \u001b[31m33.7 MB/s\u001b[0m eta \u001b[36m0:00:00\u001b[0m00:01\u001b[0m00:01\u001b[0m\n",
      "\u001b[?25hCollecting scikit-learn\n",
      "  Downloading scikit_learn-1.2.2-cp310-cp310-manylinux_2_17_x86_64.manylinux2014_x86_64.whl (9.6 MB)\n",
      "\u001b[2K     \u001b[90m━━━━━━━━━━━━━━━━━━━━━━━━━━━━━━━━━━━━━━━━\u001b[0m \u001b[32m9.6/9.6 MB\u001b[0m \u001b[31m80.9 MB/s\u001b[0m eta \u001b[36m0:00:00\u001b[0m:00:01\u001b[0m00:01\u001b[0m\n",
      "\u001b[?25hRequirement already satisfied: pandas>=1.0 in /srv/conda/envs/notebook/lib/python3.10/site-packages (from mapclassify) (2.0.0)\n",
      "Requirement already satisfied: numpy>=1.3 in /srv/conda/envs/notebook/lib/python3.10/site-packages (from mapclassify) (1.24.2)\n",
      "Collecting networkx\n",
      "  Downloading networkx-3.1-py3-none-any.whl (2.1 MB)\n",
      "\u001b[2K     \u001b[90m━━━━━━━━━━━━━━━━━━━━━━━━━━━━━━━━━━━━━━━━\u001b[0m \u001b[32m2.1/2.1 MB\u001b[0m \u001b[31m72.3 MB/s\u001b[0m eta \u001b[36m0:00:00\u001b[0m\n",
      "\u001b[?25hRequirement already satisfied: pytz>=2020.1 in /srv/conda/envs/notebook/lib/python3.10/site-packages (from pandas>=1.0->mapclassify) (2022.7.1)\n",
      "Requirement already satisfied: python-dateutil>=2.8.2 in /srv/conda/envs/notebook/lib/python3.10/site-packages (from pandas>=1.0->mapclassify) (2.8.2)\n",
      "Requirement already satisfied: tzdata>=2022.1 in /srv/conda/envs/notebook/lib/python3.10/site-packages (from pandas>=1.0->mapclassify) (2023.3)\n",
      "Collecting threadpoolctl>=2.0.0\n",
      "  Downloading threadpoolctl-3.1.0-py3-none-any.whl (14 kB)\n",
      "Collecting joblib>=1.1.1\n",
      "  Downloading joblib-1.2.0-py3-none-any.whl (297 kB)\n",
      "\u001b[2K     \u001b[90m━━━━━━━━━━━━━━━━━━━━━━━━━━━━━━━━━━━━━━\u001b[0m \u001b[32m298.0/298.0 kB\u001b[0m \u001b[31m37.6 MB/s\u001b[0m eta \u001b[36m0:00:00\u001b[0m\n",
      "\u001b[?25hRequirement already satisfied: six>=1.5 in /srv/conda/envs/notebook/lib/python3.10/site-packages (from python-dateutil>=2.8.2->pandas>=1.0->mapclassify) (1.16.0)\n",
      "Installing collected packages: threadpoolctl, scipy, networkx, joblib, scikit-learn, mapclassify\n",
      "Successfully installed joblib-1.2.0 mapclassify-2.5.0 networkx-3.1 scikit-learn-1.2.2 scipy-1.10.1 threadpoolctl-3.1.0\n",
      "Collecting folium\n",
      "  Downloading folium-0.14.0-py2.py3-none-any.whl (102 kB)\n",
      "\u001b[2K     \u001b[90m━━━━━━━━━━━━━━━━━━━━━━━━━━━━━━━━━━━━━━━\u001b[0m \u001b[32m102.3/102.3 kB\u001b[0m \u001b[31m3.5 MB/s\u001b[0m eta \u001b[36m0:00:00\u001b[0m\n",
      "\u001b[?25hRequirement already satisfied: requests in /srv/conda/envs/notebook/lib/python3.10/site-packages (from folium) (2.28.2)\n",
      "Collecting branca>=0.6.0\n",
      "  Downloading branca-0.6.0-py3-none-any.whl (24 kB)\n",
      "Requirement already satisfied: numpy in /srv/conda/envs/notebook/lib/python3.10/site-packages (from folium) (1.24.2)\n",
      "Requirement already satisfied: jinja2>=2.9 in /srv/conda/envs/notebook/lib/python3.10/site-packages (from folium) (3.1.2)\n",
      "Requirement already satisfied: MarkupSafe>=2.0 in /srv/conda/envs/notebook/lib/python3.10/site-packages (from jinja2>=2.9->folium) (2.1.2)\n",
      "Requirement already satisfied: urllib3<1.27,>=1.21.1 in /srv/conda/envs/notebook/lib/python3.10/site-packages (from requests->folium) (1.26.14)\n",
      "Requirement already satisfied: certifi>=2017.4.17 in /srv/conda/envs/notebook/lib/python3.10/site-packages (from requests->folium) (2022.12.7)\n",
      "Requirement already satisfied: charset-normalizer<4,>=2 in /srv/conda/envs/notebook/lib/python3.10/site-packages (from requests->folium) (2.1.1)\n",
      "Requirement already satisfied: idna<4,>=2.5 in /srv/conda/envs/notebook/lib/python3.10/site-packages (from requests->folium) (3.4)\n",
      "Installing collected packages: branca, folium\n",
      "Successfully installed branca-0.6.0 folium-0.14.0\n",
      "Collecting contextily\n",
      "  Downloading contextily-1.3.0-py3-none-any.whl (16 kB)\n",
      "Collecting rasterio\n",
      "  Downloading rasterio-1.3.6-cp310-cp310-manylinux_2_17_x86_64.manylinux2014_x86_64.whl (20.0 MB)\n",
      "\u001b[2K     \u001b[90m━━━━━━━━━━━━━━━━━━━━━━━━━━━━━━━━━━━━━━━━\u001b[0m \u001b[32m20.0/20.0 MB\u001b[0m \u001b[31m42.4 MB/s\u001b[0m eta \u001b[36m0:00:00\u001b[0m00:01\u001b[0m00:01\u001b[0m\n",
      "\u001b[?25hRequirement already satisfied: pillow in /srv/conda/envs/notebook/lib/python3.10/site-packages (from contextily) (9.5.0)\n",
      "Collecting geopy\n",
      "  Downloading geopy-2.3.0-py3-none-any.whl (119 kB)\n",
      "\u001b[2K     \u001b[90m━━━━━━━━━━━━━━━━━━━━━━━━━━━━━━━━━━━━━━\u001b[0m \u001b[32m119.8/119.8 kB\u001b[0m \u001b[31m17.7 MB/s\u001b[0m eta \u001b[36m0:00:00\u001b[0m\n",
      "\u001b[?25hRequirement already satisfied: matplotlib in /srv/conda/envs/notebook/lib/python3.10/site-packages (from contextily) (3.7.1)\n",
      "Requirement already satisfied: requests in /srv/conda/envs/notebook/lib/python3.10/site-packages (from contextily) (2.28.2)\n",
      "Collecting xyzservices\n",
      "  Downloading xyzservices-2023.2.0-py3-none-any.whl (55 kB)\n",
      "\u001b[2K     \u001b[90m━━━━━━━━━━━━━━━━━━━━━━━━━━━━━━━━━━━━━━━━\u001b[0m \u001b[32m55.4/55.4 kB\u001b[0m \u001b[31m8.8 MB/s\u001b[0m eta \u001b[36m0:00:00\u001b[0m\n",
      "\u001b[?25hRequirement already satisfied: joblib in /srv/conda/envs/notebook/lib/python3.10/site-packages (from contextily) (1.2.0)\n",
      "Collecting mercantile\n",
      "  Downloading mercantile-1.2.1-py3-none-any.whl (14 kB)\n",
      "Collecting geographiclib<3,>=1.52\n",
      "  Downloading geographiclib-2.0-py3-none-any.whl (40 kB)\n",
      "\u001b[2K     \u001b[90m━━━━━━━━━━━━━━━━━━━━━━━━━━━━━━━━━━━━━━━━\u001b[0m \u001b[32m40.3/40.3 kB\u001b[0m \u001b[31m5.5 MB/s\u001b[0m eta \u001b[36m0:00:00\u001b[0m\n",
      "\u001b[?25hRequirement already satisfied: pyparsing>=2.3.1 in /srv/conda/envs/notebook/lib/python3.10/site-packages (from matplotlib->contextily) (3.0.9)\n",
      "Requirement already satisfied: packaging>=20.0 in /srv/conda/envs/notebook/lib/python3.10/site-packages (from matplotlib->contextily) (23.0)\n",
      "Requirement already satisfied: fonttools>=4.22.0 in /srv/conda/envs/notebook/lib/python3.10/site-packages (from matplotlib->contextily) (4.39.3)\n",
      "Requirement already satisfied: kiwisolver>=1.0.1 in /srv/conda/envs/notebook/lib/python3.10/site-packages (from matplotlib->contextily) (1.4.4)\n",
      "Requirement already satisfied: cycler>=0.10 in /srv/conda/envs/notebook/lib/python3.10/site-packages (from matplotlib->contextily) (0.11.0)\n",
      "Requirement already satisfied: python-dateutil>=2.7 in /srv/conda/envs/notebook/lib/python3.10/site-packages (from matplotlib->contextily) (2.8.2)\n",
      "Requirement already satisfied: numpy>=1.20 in /srv/conda/envs/notebook/lib/python3.10/site-packages (from matplotlib->contextily) (1.24.2)\n",
      "Requirement already satisfied: contourpy>=1.0.1 in /srv/conda/envs/notebook/lib/python3.10/site-packages (from matplotlib->contextily) (1.0.7)\n",
      "Requirement already satisfied: click>=3.0 in /srv/conda/envs/notebook/lib/python3.10/site-packages (from mercantile->contextily) (8.1.3)\n",
      "Requirement already satisfied: cligj>=0.5 in /srv/conda/envs/notebook/lib/python3.10/site-packages (from rasterio->contextily) (0.7.2)\n",
      "Requirement already satisfied: click-plugins in /srv/conda/envs/notebook/lib/python3.10/site-packages (from rasterio->contextily) (1.1.1)\n",
      "Collecting affine\n",
      "  Downloading affine-2.4.0-py3-none-any.whl (15 kB)\n",
      "Requirement already satisfied: attrs in /srv/conda/envs/notebook/lib/python3.10/site-packages (from rasterio->contextily) (22.2.0)\n",
      "Requirement already satisfied: certifi in /srv/conda/envs/notebook/lib/python3.10/site-packages (from rasterio->contextily) (2022.12.7)\n",
      "Requirement already satisfied: setuptools in /srv/conda/envs/notebook/lib/python3.10/site-packages (from rasterio->contextily) (67.1.0)\n",
      "Collecting snuggs>=1.4.1\n",
      "  Downloading snuggs-1.4.7-py3-none-any.whl (5.4 kB)\n",
      "Requirement already satisfied: idna<4,>=2.5 in /srv/conda/envs/notebook/lib/python3.10/site-packages (from requests->contextily) (3.4)\n",
      "Requirement already satisfied: charset-normalizer<4,>=2 in /srv/conda/envs/notebook/lib/python3.10/site-packages (from requests->contextily) (2.1.1)\n",
      "Requirement already satisfied: urllib3<1.27,>=1.21.1 in /srv/conda/envs/notebook/lib/python3.10/site-packages (from requests->contextily) (1.26.14)\n",
      "Requirement already satisfied: six>=1.5 in /srv/conda/envs/notebook/lib/python3.10/site-packages (from python-dateutil>=2.7->matplotlib->contextily) (1.16.0)\n",
      "Installing collected packages: xyzservices, snuggs, mercantile, geographiclib, affine, rasterio, geopy, contextily\n",
      "Successfully installed affine-2.4.0 contextily-1.3.0 geographiclib-2.0 geopy-2.3.0 mercantile-1.2.1 rasterio-1.3.6 snuggs-1.4.7 xyzservices-2023.2.0\n"
     ]
    }
   ],
   "source": [
    "!pip install pandas\n",
    "!pip install geopandas\n",
    "!pip install matplotlib\n",
    "!pip install mapclassify\n",
    "!pip install folium\n",
    "!pip install contextily"
   ]
  },
  {
   "cell_type": "code",
   "execution_count": 5,
   "id": "fda26f08-aad5-4cb8-81b6-147f76211811",
   "metadata": {},
   "outputs": [],
   "source": [
    "import glob\n",
    "import pandas as pd\n",
    "import geopandas as gpd\n",
    "import matplotlib as mpl\n",
    "import mapclassify\n",
    "import folium\n",
    "import contextily"
   ]
  },
  {
   "cell_type": "code",
   "execution_count": null,
   "id": "617a4fb1-163a-4198-aec2-3ce8625a521f",
   "metadata": {},
   "outputs": [],
   "source": [
    "# using glob to establish reading the csv and shp files only\n",
    "data_filenames = glob.glob('*.[c][s][v]')\n",
    "shp_filenames = glob.glob('*.[s][h][p]')\n"
   ]
  },
  {
   "cell_type": "code",
   "execution_count": null,
   "id": "2778dd4c-9400-449b-b7c5-e16f3f23c0cf",
   "metadata": {},
   "outputs": [],
   "source": [
    "# using glob to establish reading the shapefiles only for both years\n",
    "shp2016_filenames = glob.glob('da_boundaries_2016/*.shp')\n",
    "shp2021_filenames = glob.glob('da_boundaries_2021/*.shp')"
   ]
  },
  {
   "cell_type": "code",
   "execution_count": null,
   "id": "e9a476bb-753b-46cc-8e3b-2271ffb81771",
   "metadata": {},
   "outputs": [],
   "source": [
    "# reading the census data csv file into dataframes for both location and both years\n",
    "df_lon2016 = pd.read_csv('2016lon_dataDA.csv', sep = ',')\n",
    "df_lon2021 = pd.read_csv('2021lon_dataDA.csv', sep = ',')\n",
    "df_mtl2016 = pd.read_csv('2016mtl_dataDA.csv', sep = ',')\n",
    "df_mtl2021 = pd.read_csv('2021mtl_dataDA.csv', sep = ',')\n",
    "df_mtl2021.head()"
   ]
  },
  {
   "cell_type": "code",
   "execution_count": null,
   "id": "eee86d19-e868-4ee8-b53d-0fcc6243dea3",
   "metadata": {},
   "outputs": [],
   "source": [
    "\n",
    "# reading the census data csv file into dataframes for both location and both years\n",
    "dF_lon2016 = pd.read_csv('2016lon_dataDA.csv', sep = ',')\n",
    "df_lon2021 = pd.read_csv('2021lon_dataDA.csv', sep = ',')\n",
    "df_mtl2016 = pd.read_csv('2016mtl_dataDA.csv', sep = ',')\n",
    "df_mtl2021 = pd.read_csv('2021mtl_dataDA.csv', sep = ',')\n",
    "\n",
    "# remove first row of al dfs because it is the sum of all rows\n",
    "df_lon2016_data = df_lon2016[1:]\n",
    "df_lon2021_data = df_lon2021[1:]\n",
    "df_mtl2016_data = df_mtl2016[1:]\n",
    "df_mtl2021_data = df_mtl2021[1:]\n",
    "\n",
    "# convert all DAUID into integers\n",
    "to_convert2 = {'COL0': 'int64'} # for df where COL0 is the GEOUID\n",
    "df_lon2016 = df_lon2016_data.astype(to_convert2)\n",
    "df_lon2021 = df_lon2021_data.astype(to_convert2)\n",
    "df_mtl2016 = df_mtl2016_data.astype(to_convert2)\n",
    "df_mtl2021 = df_mtl2021_data.astype(to_convert2)\n",
    "\n",
    "# rename columns of all dfs to DAUID to be compatible for merge with the boundary shapefiles\n",
    "df_lon2016.rename(columns={\"COL0\": \"DAUID\"}, inplace = True)\n",
    "df_lon2021.rename(columns={\"COL0\": \"DAUID\"}, inplace = True)\n",
    "df_mtl2016.rename(columns={\"COL0\": \"DAUID\"}, inplace = True)\n",
    "df_mtl2021.rename(columns={\"COL0\": \"DAUID\"}, inplace = True)\n"
   ]
  },
  {
   "cell_type": "code",
   "execution_count": null,
   "id": "e890ee4d-557c-48bd-9b67-c7dea4bd7a4b",
   "metadata": {},
   "outputs": [],
   "source": [
    "# rename all columns for gdfs 2016 by using a for loop\n",
    "dfs_mtllon2016 = [df_lon2016, df_mtl2016]\n",
    "for i in dfs_mtllon2016:\n",
    "    i.rename(columns={'COL2': 'pop2011','COL3': 'pop2016','COL4': 'perc_change2011_2016','COL5': 'totalhomes2016','COL6': 'popdensity_km2_2016',\n",
    "                      'COL7': 'landarea_km2_2016','COL8': 'tot_citizen_stat2016','COL9': 'tot_can2016','COL10': 'tot_non_can2016','COL11': 'tot_homeownrent2016',\n",
    "                      'COL12': 'homeowner2016','COL13': 'homerenter2016','COL14': 'tot_condostatus2016','COL15': 'non_condo2016','COL16': 'condo2016',\n",
    "                      'COL17': 'tot_responsible_2016','COL18': 'respon15_24_2016','COL19': 'respons25_34_2016','COL20': 'respons35_44_2016','COL21': 'respons45_54_2016',\n",
    "                      'COL22': 'respons55_64_2016','COL23': 'respons65_74_2016','COL24': 'respons75_84_2016','COL25': 'respons85over2016'}, inplace = True)\n"
   ]
  },
  {
   "cell_type": "code",
   "execution_count": null,
   "id": "c4256f2a-b350-477a-8e36-0093c705c27a",
   "metadata": {},
   "outputs": [],
   "source": [
    "#rename all columns for gdfs 2021 using a for loop    \n",
    "dfs_mtllon2021 = [df_lon2021, df_mtl2021]\n",
    "for j in dfs_mtllon2021:\n",
    "    j.rename(columns={'COL2': 'pop2021','COL3': 'pop2016','COL4': 'perc_change2021_2016','COL5': 'totalhomes2021','COL6': 'popdensity_km2_2021',\n",
    "                      'COL7': 'landarea_km2_2021','COL8': 'tot_citizen_stat2021','COL9': 'tot_can2021','COL10': 'tot_non_can2021','COL11': 'tot_homeownrent2021',\n",
    "                      'COL12': 'homeowner2021','COL13': 'homerenter2021','COL14': 'tot_condostatus2021','COL15': 'non_condo2021','COL16': 'condo2021',\n",
    "                      'COL17': 'tot_responsible_2021','COL18': 'respon15_24_2021','COL19': 'respons25_34_2021','COL20': 'respons35_44_2021','COL21': 'respons45_54_2021',\n",
    "                      'COL22': 'respons55_64_2021','COL23': 'respons65_74_2021','COL24': 'respons75_84_2021','COL25': 'respons85over2021'}, inplace = True)\n"
   ]
  },
  {
   "cell_type": "code",
   "execution_count": null,
   "id": "82b6daa0-09b4-45db-88fe-6d0f66391617",
   "metadata": {},
   "outputs": [],
   "source": [
    "# merge data for Longueuil to have columns of 2021 and 2016 according to the same DA\n",
    "df_lon2016_2021 = pd.merge(df_lon2016, df_lon2021, how= 'right', on = 'DAUID')"
   ]
  },
  {
   "cell_type": "code",
   "execution_count": null,
   "id": "501830ac-fdba-4595-9715-45af59655f7e",
   "metadata": {},
   "outputs": [],
   "source": [
    "df_lon2016_2021"
   ]
  },
  {
   "cell_type": "code",
   "execution_count": null,
   "id": "756f0240-0d23-4fbc-b427-f4806fcfa489",
   "metadata": {},
   "outputs": [],
   "source": [
    "# merge data for montreal to have columns of 2021 and 2016 according to the same DA\n",
    "df_mtl2016_2021 = pd.merge(df_mtl2016, df_mtl2021, how='right', on = 'DAUID')"
   ]
  },
  {
   "cell_type": "code",
   "execution_count": null,
   "id": "ba473835-e5ef-4574-8b8a-e64ffbb3164b",
   "metadata": {},
   "outputs": [],
   "source": [
    "df_mtl2016_2021"
   ]
  },
  {
   "cell_type": "code",
   "execution_count": null,
   "id": "35b5e11c-741e-4ae5-8c5f-c1547d3cfea9",
   "metadata": {},
   "outputs": [],
   "source": [
    "# fill all NaN into 10000000\n",
    "to_fill = {\"totalhomes2021\": 0, \"totalhomes2016\": 0}\n",
    "df_mtl2016_2021 = df_mtl2016_2021.fillna(to_fill)\n",
    "df_lon2016_2021 = df_lon2016_2021.fillna(to_fill)\n",
    "# add columns to do analysis\n",
    "df_mtl2016_2021['var_house'] = df_mtl2016_2021['totalhomes2021']-df_mtl2016_2021['totalhomes2016']\n",
    "df_lon2016_2021['var_house'] = df_lon2016_2021['totalhomes2021']-df_lon2016_2021['totalhomes2016']"
   ]
  },
  {
   "cell_type": "code",
   "execution_count": null,
   "id": "7678a2f7-43af-48ab-95aa-367c7943935e",
   "metadata": {},
   "outputs": [],
   "source": [
    "# inspect data to see extent of max and min to adjust the range of data on the map\n",
    "df_lon2016_2021.describe()"
   ]
  },
  {
   "cell_type": "code",
   "execution_count": null,
   "id": "7c4415a2-1af0-4ef4-9a4d-15728a02f993",
   "metadata": {},
   "outputs": [],
   "source": [
    "# inspect data to see extent of max and min to adjust range of data on the map\n",
    "df_mtl2016_2021.describe()"
   ]
  },
  {
   "cell_type": "code",
   "execution_count": null,
   "id": "7e10e482-3132-49df-87b1-f708832c4a7c",
   "metadata": {},
   "outputs": [],
   "source": [
    "# convert gdf column DAUID into integer\n",
    "to_convert = {'DAUID': 'int64'} # for gdf where DAUID\n",
    "gdf_da2016 = gdf_da2016.astype(to_convert)\n",
    "gdf_da2021 = gdf_da2021.astype(to_convert)\n",
    "\n",
    "# merge with DA boundary areas\n",
    "merged_da_lon = pd.merge(gdf_da2021, df_lon2016_2021, how = 'inner', on = 'DAUID')\n",
    "# merge with DA boundary areas\n",
    "merged_da_mtl = pd.merge(gdf_da2021, df_mtl2016_2021, how = 'inner', on = 'DAUID')"
   ]
  },
  {
   "cell_type": "code",
   "execution_count": null,
   "id": "7cd2d7d7-f15a-48c2-abbb-076cdf9a25d2",
   "metadata": {},
   "outputs": [],
   "source": [
    "# project all the gdfs merged into MTM zone 8 using .to_crs('EPSG:2950')\n",
    "promerged_da_mtl= merged_da_mtl.to_crs('EPSG:2950')\n",
    "promerged_da_lon = merged_da_lon.to_crs('EPSG:2950')"
   ]
  },
  {
   "cell_type": "code",
   "execution_count": null,
   "id": "72d71bb9-123f-479a-b43e-ed71d2899a46",
   "metadata": {},
   "outputs": [],
   "source": [
    "#exporting the projected merged gdfs as a Geojson file\n",
    "promerged_da_mtl.to_file('gdf_final_da_mtl.geojson', driver = 'GeoJSON')\n",
    "promerged_da_lon.to_file('gdf_final_da_lon.geojson', driver = 'GeoJSON')"
   ]
  },
  {
   "cell_type": "code",
   "execution_count": null,
   "id": "06553036-881d-4ac8-9f7e-c656e2fa05d3",
   "metadata": {},
   "outputs": [],
   "source": [
    "plot_final = promerged_da_lon.plot(\n",
    "    'var_house'\n",
    "    ,figsize=(15,10)\n",
    "    ,edgecolor=\"grey\"\n",
    "    ,linewidth=0.1\n",
    "    ,vmax=1200\n",
    "    ,vmin=-200\n",
    "    ,legend=True\n",
    "    ,cmap=\"Blues\"\n",
    ")\n",
    "\n",
    "plot_final.annotate(\n",
    "    \"Map of housing changes from 2016 to 2021 in Longueuil \",\n",
    "    (0.5,1)\n",
    "    ,xycoords = 'axes fraction'\n",
    "    ,horizontalalignment='center'\n",
    "    ,verticalalignment='bottom'\n",
    "    ,fontsize = 18\n",
    "    ,color='#000'\n",
    "    ,fontstyle='normal'\n",
    ")"
   ]
  },
  {
   "cell_type": "code",
   "execution_count": null,
   "id": "69c2a456-c74f-4ad8-8c71-51e59019fb26",
   "metadata": {},
   "outputs": [],
   "source": [
    "plot_final = promerged_da_mtl.plot(\n",
    "    'var_house'\n",
    "    ,figsize=(15,10)\n",
    "    ,edgecolor=\"grey\"\n",
    "    ,linewidth=0.1\n",
    "    ,vmax=1000\n",
    "    ,vmin= -200\n",
    "    ,legend=True\n",
    "    ,cmap=\"Blues\"\n",
    ")\n",
    "\n",
    "plot_final.annotate(\n",
    "    \"Map of housing changes from 2016 to 2021 in Montreal \",\n",
    "    (0.5,1)\n",
    "    ,xycoords = 'axes fraction'\n",
    "    ,horizontalalignment='center'\n",
    "    ,verticalalignment='bottom'\n",
    "    ,fontsize = 18\n",
    "    ,color='#000'\n",
    "    ,fontstyle='normal'\n",
    ")"
   ]
  },
  {
   "cell_type": "code",
   "execution_count": null,
   "id": "6aa72f00-6365-4a35-8a2b-73b3dbb9ca4b",
   "metadata": {},
   "outputs": [],
   "source": []
  },
  {
   "cell_type": "code",
   "execution_count": null,
   "id": "0782caa9-be16-4671-b489-72988e270ac8",
   "metadata": {},
   "outputs": [],
   "source": [
    "# mapping the areas with the most new houses\n",
    "# tiles='CartoDB positron'\n",
    "merged_da_lon.explore(column=\"var_house\", cmap=\"Reds\" ,legend=None,tooltip=['DAUID','var_house'], style_kwds={\"color\": \"black\", \"weight\":1, \"opacity\":0.8})\n"
   ]
  },
  {
   "cell_type": "code",
   "execution_count": null,
   "id": "925905ce-1e20-4093-9914-b8d632e3f942",
   "metadata": {},
   "outputs": [],
   "source": [
    "# mapping the areas with the most new houses\n",
    "# tiles='CartoDB positron'\n",
    "merged_da_mtl.explore(column=\"var_house\", cmap=\"Blues\" ,legend=None,tooltip=['DAUID','var_house'], style_kwds={\"color\": \"black\", \"weight\":1, \"opacity\":1})\n"
   ]
  },
  {
   "cell_type": "code",
   "execution_count": null,
   "id": "905c8e02-82eb-4cca-ba84-ec521518e23b",
   "metadata": {},
   "outputs": [],
   "source": []
  },
  {
   "cell_type": "code",
   "execution_count": null,
   "id": "6a663746-69e4-4ca4-8660-15bd48e2e227",
   "metadata": {},
   "outputs": [],
   "source": []
  },
  {
   "cell_type": "code",
   "execution_count": null,
   "id": "af0a4d74-3ec4-4071-9cca-98651435e00d",
   "metadata": {},
   "outputs": [],
   "source": []
  },
  {
   "cell_type": "code",
   "execution_count": null,
   "id": "0132d221-a076-4e7d-b262-957126921840",
   "metadata": {},
   "outputs": [],
   "source": []
  }
 ],
 "metadata": {
  "kernelspec": {
   "display_name": "Python 3 (ipykernel)",
   "language": "python",
   "name": "python3"
  },
  "language_info": {
   "codemirror_mode": {
    "name": "ipython",
    "version": 3
   },
   "file_extension": ".py",
   "mimetype": "text/x-python",
   "name": "python",
   "nbconvert_exporter": "python",
   "pygments_lexer": "ipython3",
   "version": "3.10.9"
  }
 },
 "nbformat": 4,
 "nbformat_minor": 5
}
